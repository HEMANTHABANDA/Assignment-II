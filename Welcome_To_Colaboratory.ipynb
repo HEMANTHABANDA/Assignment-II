{
  "nbformat": 4,
  "nbformat_minor": 0,
  "metadata": {
    "colab": {
      "name": "Welcome To Colaboratory",
      "provenance": [],
      "collapsed_sections": [],
      "toc_visible": true,
      "include_colab_link": true
    },
    "kernelspec": {
      "display_name": "Python 3",
      "name": "python3"
    }
  },
  "cells": [
    {
      "cell_type": "markdown",
      "metadata": {
        "id": "view-in-github",
        "colab_type": "text"
      },
      "source": [
        "<a href=\"https://colab.research.google.com/github/HEMANTHABANDA/Assignment-II/blob/master/Welcome_To_Colaboratory.ipynb\" target=\"_parent\"><img src=\"https://colab.research.google.com/assets/colab-badge.svg\" alt=\"Open In Colab\"/></a>"
      ]
    },
    {
      "cell_type": "code",
      "metadata": {
        "id": "lqZaNpOIO-Tu",
        "colab_type": "code",
        "colab": {
          "base_uri": "https://localhost:8080/",
          "height": 87
        },
        "outputId": "147143df-0791-46ce-d3e4-131647831f30"
      },
      "source": [
        "a=float(input(\"Enter length of 1st side of a triangle:\"))  \n",
        "b=float(input(\"Enter length of 2nd side of a triangle:\"))  \n",
        "c=float(input(\"Enter length of 3rd side of a triangle:\"))  \n",
        "if(a+b>c):\n",
        "  s=(a+b+c)/2  \n",
        "  area=(s*(s-a)*(s-b)*(s-c))**(1/2)\n",
        "  print(\"The area of the triangle is= \", round(area,2))\n",
        "else:\n",
        "  print(\"The triangle is not possible\")\n"
      ],
      "execution_count": 1,
      "outputs": [
        {
          "output_type": "stream",
          "text": [
            "Enter length of 1st side of a triangle:45\n",
            "Enter length of 2nd side of a triangle:20\n",
            "Enter length of 3rd side of a triangle:60\n",
            "The area of the triangle is=  340.9\n"
          ],
          "name": "stdout"
        }
      ]
    },
    {
      "cell_type": "code",
      "metadata": {
        "id": "Iv2PGtXzTItZ",
        "colab_type": "code",
        "colab": {
          "base_uri": "https://localhost:8080/",
          "height": 52
        },
        "outputId": "9836704c-62c7-45ee-d583-aec30aaf54de"
      },
      "source": [
        "s=input(\"Enter a string:\")\n",
        "if(s==s[::-1]):\n",
        "    print(\"Given string {} is palindrome\".format(s))\n",
        "else:\n",
        "    print(\"Given string {} is not palindrome\".format(s))\n"
      ],
      "execution_count": 3,
      "outputs": [
        {
          "output_type": "stream",
          "text": [
            "Enter a string:mom\n",
            "Given string mom is palindrome\n"
          ],
          "name": "stdout"
        }
      ]
    },
    {
      "cell_type": "code",
      "metadata": {
        "id": "hahRCLQcTZOH",
        "colab_type": "code",
        "colab": {
          "base_uri": "https://localhost:8080/",
          "height": 52
        },
        "outputId": "e47d4566-20dd-494d-dc2c-4d5f6a36e60a"
      },
      "source": [
        "year=int(input(\"Enter the year:\"))\n",
        "if(year%4==0 and year%100!=0 or year%400==0):\n",
        "    print(\"{} The entered year is leap year\".format(year))\n",
        "else:\n",
        "    print(\"{} The entered year is not a leap year\".format(year))\n"
      ],
      "execution_count": 4,
      "outputs": [
        {
          "output_type": "stream",
          "text": [
            "Enter the year:2000\n",
            "2000 The entered year is leap year\n"
          ],
          "name": "stdout"
        }
      ]
    },
    {
      "cell_type": "code",
      "metadata": {
        "id": "eCa2958xUNiU",
        "colab_type": "code",
        "colab": {
          "base_uri": "https://localhost:8080/",
          "height": 52
        },
        "outputId": "dcb02f68-5c02-46c6-f686-7a04adbd3dbe"
      },
      "source": [
        "n=input(\"Enter a string : \")\n",
        "print(n.replace(' ','-'))\n"
      ],
      "execution_count": 6,
      "outputs": [
        {
          "output_type": "stream",
          "text": [
            "Enter a string : hemantha reddy\n",
            "hemantha-reddy\n"
          ],
          "name": "stdout"
        }
      ]
    },
    {
      "cell_type": "code",
      "metadata": {
        "id": "Mh-y6_dTUwvS",
        "colab_type": "code",
        "colab": {
          "base_uri": "https://localhost:8080/",
          "height": 52
        },
        "outputId": "97e2a138-6654-4ab4-be9a-b66b5a55d621"
      },
      "source": [
        "str=input(\"Enter a string: \")\n",
        "s=str.split()\n",
        "s.sort()\n",
        "list(s)\n",
        "set(s)\n"
      ],
      "execution_count": 7,
      "outputs": [
        {
          "output_type": "stream",
          "text": [
            "Enter a string: hemantha,priya,chandana,srija\n"
          ],
          "name": "stdout"
        },
        {
          "output_type": "execute_result",
          "data": {
            "text/plain": [
              "{'hemantha,priya,chandana,srija'}"
            ]
          },
          "metadata": {
            "tags": []
          },
          "execution_count": 7
        }
      ]
    },
    {
      "cell_type": "code",
      "metadata": {
        "id": "osq2QxagVCIe",
        "colab_type": "code",
        "colab": {
          "base_uri": "https://localhost:8080/",
          "height": 52
        },
        "outputId": "0a96fb8f-477e-4129-9b70-5123a8103bb5"
      },
      "source": [
        "salary=int(input(\"Enter the salary : \"))\n",
        "if (salary>=0) and (salary<=250000):\n",
        "    tax=(salary*0)\n",
        "elif (salary>250000) and (salary<=500000):\n",
        "    tax=(salary*0.05)\n",
        "elif (salary>500000) and (salary<=750000):\n",
        "    tax=(salary*0.1)\n",
        "elif (salary>750000) and (salary<=1000000):\n",
        "    tax=(salary*0.15)\n",
        "elif (salary>1000000) and (salary<=1250000):\n",
        "    tax=(salary*0.2)\n",
        "elif (salary>1250000) and (salary<=1500000):\n",
        "    tax=(salary*0.25)\n",
        "else:\n",
        "    tax=(salary*0.3)\n",
        "print(\"Tax is : \",tax)\n"
      ],
      "execution_count": 9,
      "outputs": [
        {
          "output_type": "stream",
          "text": [
            "Enter the salary : 500000\n",
            "Tax is :  25000.0\n"
          ],
          "name": "stdout"
        }
      ]
    },
    {
      "cell_type": "code",
      "metadata": {
        "id": "7_iJCx4lVSyr",
        "colab_type": "code",
        "colab": {
          "base_uri": "https://localhost:8080/",
          "height": 35
        },
        "outputId": "e4a44989-1bd5-4345-f5cd-e903048e7e24"
      },
      "source": [
        "l=[21,31,52]\n",
        "for i in l:\n",
        "  print(i,end=\"\")\n"
      ],
      "execution_count": 11,
      "outputs": [
        {
          "output_type": "stream",
          "text": [
            "213152"
          ],
          "name": "stdout"
        }
      ]
    },
    {
      "cell_type": "code",
      "metadata": {
        "id": "FNgvYI_ibpg-",
        "colab_type": "code",
        "colab": {
          "base_uri": "https://localhost:8080/",
          "height": 104
        },
        "outputId": "ee0b2fbf-1ee9-4fcb-dcdb-001c47844d76"
      },
      "source": [
        "days    = int(input(\"Enter number of Days: \"))\n",
        "hours   = int(input(\"Enter number of Hours: \"))\n",
        "minutes = int(input(\"Enter number of Minutes: \"))\n",
        "seconds = int(input(\"Enter number of Seconds: \"))\n",
        "ts = days * 86400\n",
        "ts = ts + ( hours * 3600)\n",
        "ts = ts + ( minutes * 60)\n",
        "ts = ts + seconds\n",
        "print(\"Total number of seconds: \",\"%d\"%(ts))"
      ],
      "execution_count": 27,
      "outputs": [
        {
          "output_type": "stream",
          "text": [
            "Enter number of Days: 4\n",
            "Enter number of Hours: 2\n",
            "Enter number of Minutes: 54\n",
            "Enter number of Seconds: 452\n",
            "Total number of seconds:  356492\n"
          ],
          "name": "stdout"
        }
      ]
    },
    {
      "cell_type": "code",
      "metadata": {
        "id": "_L2NmxAtWc8n",
        "colab_type": "code",
        "colab": {
          "base_uri": "https://localhost:8080/",
          "height": 87
        },
        "outputId": "a6879a73-1139-46ea-e9e9-283394caa95a"
      },
      "source": [
        "a=int(input(\"Enter the number of a:\"))\n",
        "b=int(input(\"Enter the number of b:\"))\n",
        "c=int(input(\"Enter the number of c:\"))\n",
        "d=min(a,b,c)\n",
        "e=max(a,b,c)\n",
        "f=(a+b+c)-d-e\n",
        "print(\"The Sorted order is:\",d,f,e)\n"
      ],
      "execution_count": 15,
      "outputs": [
        {
          "output_type": "stream",
          "text": [
            "Enter the number of a:5\n",
            "Enter the number of b:8\n",
            "Enter the number of c:2\n",
            "The Sorted order is: 2 5 8\n"
          ],
          "name": "stdout"
        }
      ]
    },
    {
      "cell_type": "code",
      "metadata": {
        "id": "BClCeDJ8WuN3",
        "colab_type": "code",
        "colab": {
          "base_uri": "https://localhost:8080/",
          "height": 87
        },
        "outputId": "b4c730e7-63b8-4984-c303-201463c677db"
      },
      "source": [
        "year=int(input(\"Enter a year : \"))\n",
        "if year%400== 0:\n",
        "    leapyear=True\n",
        "elif year%100==0:\n",
        "    leapyear=False\n",
        "elif year%4==0:\n",
        "    leapyear=True\n",
        "else:\n",
        "    leapyear=False\n",
        "month=int(input(\"Enter a month between 1 to 12 : \"))\n",
        "if month in (1, 3, 5, 7, 8, 10, 12):\n",
        "    monthlength=31\n",
        "elif month==2:\n",
        "    if leapyear:\n",
        "        monthlength=29\n",
        "    else:\n",
        "        monthlength=28\n",
        "else:\n",
        "    monthlength=30\n",
        "day=int(input(\"Enter a day between 1 to 31 : \"))\n",
        "if day<monthlength:\n",
        "    day+=1\n",
        "else:\n",
        "    day=1\n",
        "    if month==12:\n",
        "        month=1\n",
        "        year+=1\n",
        "    else:\n",
        "        month+=1\n",
        "print(\"The immediate successor is YYYY-MM-DD : %d-%d-%d.\" %(year,month,day))\n"
      ],
      "execution_count": 16,
      "outputs": [
        {
          "output_type": "stream",
          "text": [
            "Enter a year : 2000\n",
            "Enter a month between 1 to 12 : 11\n",
            "Enter a day between 1 to 31 : 17\n",
            "The immediate successor is YYYY-MM-DD : 2000-11-18.\n"
          ],
          "name": "stdout"
        }
      ]
    },
    {
      "cell_type": "code",
      "metadata": {
        "id": "eAdjcmuEW6yV",
        "colab_type": "code",
        "colab": {
          "base_uri": "https://localhost:8080/",
          "height": 35
        },
        "outputId": "4b756486-e00a-4f34-843c-d3bb3d707c29"
      },
      "source": [
        "list=[4,3,2,8,2,1,10,7]\n",
        "n=1\n",
        "for i in range(len(list)):\n",
        "    n=n*list[i]\n",
        "print(n)\n"
      ],
      "execution_count": 17,
      "outputs": [
        {
          "output_type": "stream",
          "text": [
            "26880\n"
          ],
          "name": "stdout"
        }
      ]
    },
    {
      "cell_type": "code",
      "metadata": {
        "id": "xSi7G-zMXC6c",
        "colab_type": "code",
        "colab": {
          "base_uri": "https://localhost:8080/",
          "height": 35
        },
        "outputId": "aef99812-1844-4988-bd1c-6712376ef69e"
      },
      "source": [
        "l=[2,6,8,4,8,1]\n",
        "Out_list=[]\n",
        "for i in range(len(l)-1):\n",
        "    ol=l[i]+l[i+1]\n",
        "    Out_list.append(ol)\n",
        "print(\"Out_list=\",Out_list)\n"
      ],
      "execution_count": 18,
      "outputs": [
        {
          "output_type": "stream",
          "text": [
            "Out_list= [8, 14, 12, 12, 9]\n"
          ],
          "name": "stdout"
        }
      ]
    },
    {
      "cell_type": "code",
      "metadata": {
        "id": "X8MvsRi4cLUS",
        "colab_type": "code",
        "colab": {
          "base_uri": "https://localhost:8080/",
          "height": 35
        },
        "outputId": "6d3e28fd-84bd-4379-9541-2f98250677d5"
      },
      "source": [
        "tup=(4,5,7,3,9,1)\n",
        "mul=1\n",
        "flag=0\n",
        "l=[0]\n",
        "for i in tup:\n",
        "  mul=mul*i\n",
        "  n=mul\n",
        "  if l[0]==0:\n",
        "    l[0]=n\n",
        "  else:\n",
        "    l.append(mul)\n",
        "#k=tuple(l)\n",
        "print(l)"
      ],
      "execution_count": 30,
      "outputs": [
        {
          "output_type": "stream",
          "text": [
            "[4, 20, 140, 420, 3780, 3780]\n"
          ],
          "name": "stdout"
        }
      ]
    },
    {
      "cell_type": "code",
      "metadata": {
        "id": "zG5m-yfEXc_8",
        "colab_type": "code",
        "colab": {
          "base_uri": "https://localhost:8080/",
          "height": 52
        },
        "outputId": "b2520a89-fad4-4627-b96d-19b569df9426"
      },
      "source": [
        "number=input(\"Enter a number: \")\n",
        "list=[]\n",
        "for n in range(len(number)):\n",
        "    list.append(number[n])\n",
        "print(list)\n"
      ],
      "execution_count": 20,
      "outputs": [
        {
          "output_type": "stream",
          "text": [
            "Enter a number: 171120000\n",
            "['1', '7', '1', '1', '2', '0', '0', '0', '0']\n"
          ],
          "name": "stdout"
        }
      ]
    },
    {
      "cell_type": "code",
      "metadata": {
        "id": "xAYYPUHkXiyA",
        "colab_type": "code",
        "colab": {
          "base_uri": "https://localhost:8080/",
          "height": 52
        },
        "outputId": "cd546eed-5307-4957-d007-0e0a9b47a375"
      },
      "source": [
        "def longestpalindrome(n):\n",
        "    d=[[False for i in range(len(n))] for i in range(len(n))]\n",
        "    for i in range(len(n)):\n",
        "        d[i][i]=True\n",
        "    maxlen=1\n",
        "    start=0\n",
        "    for j in range(2,len(n)+1):\n",
        "        for i in range(len(n)-j+1):\n",
        "            end=i+j\n",
        "            if j==2:\n",
        "                if n[i]==n[end-1]:\n",
        "                    d[i][end-1]=True\n",
        "                    maxlen=j\n",
        "                    start=i\n",
        "            else:\n",
        "                if n[i]==n[end-1] and d[i+1][end-2]:\n",
        "                    d[i][end-1]=True\n",
        "                    maxlen=j\n",
        "                    start=i\n",
        "    return n[start:start+maxlen]\n",
        "n=input(\"Enter a string : \")\n",
        "print(longestpalindrome(n))\n"
      ],
      "execution_count": 22,
      "outputs": [
        {
          "output_type": "stream",
          "text": [
            "Enter a string : tattarrattat\n",
            "tattarrattat\n"
          ],
          "name": "stdout"
        }
      ]
    },
    {
      "cell_type": "code",
      "metadata": {
        "id": "5iOQ3Hpmdrhg",
        "colab_type": "code",
        "colab": {
          "base_uri": "https://localhost:8080/",
          "height": 121
        },
        "outputId": "602af822-d2b8-4334-8980-b46e9bc7e683"
      },
      "source": [
        "a=input(\"enter first binary string : \")\n",
        "b=input(\"enter first substring to check : \")\n",
        "a1=input(\"enter second binary string : \")\n",
        "b1=input(\"enter second substring to check : \")\n",
        "while ( b in a ):\n",
        "  print(\"1\")\n",
        "  break\n",
        "while ( b1 in a1 ):\n",
        "  print(\"1\")\n",
        "  break\n",
        "while (b not in a ):\n",
        "  print(\"0\")\n",
        "  break\n",
        "while ( b1 not in a1):\n",
        "  print(\"0\")\n",
        "  break"
      ],
      "execution_count": 35,
      "outputs": [
        {
          "output_type": "stream",
          "text": [
            "enter first binary string : 10110\n",
            "enter first substring to check : 101\n",
            "enter second binary string : 10010\n",
            "enter second substring to check : 101\n",
            "1\n",
            "0\n"
          ],
          "name": "stdout"
        }
      ]
    },
    {
      "cell_type": "code",
      "metadata": {
        "id": "RZ9QwTjCYqKB",
        "colab_type": "code",
        "colab": {
          "base_uri": "https://localhost:8080/",
          "height": 173
        },
        "outputId": "29b6d386-f3ef-4100-a932-1cd55cf04b59"
      },
      "source": [
        "def gcd(a,b):\n",
        "    if b==0: \n",
        "        return a \n",
        "    return gcd(b,a%b) \n",
        "def countsteps(a,b,c): \n",
        "    v1=b\n",
        "    v2=0\n",
        "    count=1\n",
        "    while ((v1 is not c) and (v2 is not c)): \n",
        "        temp=min(v1,a-v2) \n",
        "        v2=v2+temp \n",
        "        v1=v1-temp \n",
        "        count=count+1\n",
        "        if ((v2==c)or(v1==c)): \n",
        "            break\n",
        "        if v1==0: \n",
        "            v1=b \n",
        "            count=count+1\n",
        "        if v2==a: \n",
        "            v2=0\n",
        "            count=count+1\n",
        "    return count \n",
        "def ispossible(a,b,c): \n",
        "    if a>b: \n",
        "        temp=a \n",
        "        a=b \n",
        "        b=temp \n",
        "    if c>b: \n",
        "        return -1\n",
        "    if (c%(gcd(b,a)) is not 0): \n",
        "        return -1\n",
        "    return(min(countsteps(b,a,c),countsteps(a,b,c)))\n",
        "t=int(input(\"Enter no of testcases : \"))\n",
        "for i in range(t):\n",
        "  a=int(input(\"Enter capacity of vessel a : \"))\n",
        "  b=int(input(\"Enter capacity of vessel b : \"))\n",
        "  c=int(input(\"Enter capacity to be obtained :\"))\n",
        "  print(\"Minimum number of steps required is : \",ispossible(a,b,c))\n"
      ],
      "execution_count": null,
      "outputs": [
        {
          "output_type": "stream",
          "text": [
            "Enter no of testcases : 2\n",
            "Enter capacity of vessel a : 100\n",
            "Enter capacity of vessel b : 86\n",
            "Enter capacity to be obtained :50\n",
            "Minimum number of steps required is :  90\n",
            "Enter capacity of vessel a : 500\n",
            "Enter capacity of vessel b : 400\n",
            "Enter capacity to be obtained :100\n",
            "Minimum number of steps required is :  2\n"
          ],
          "name": "stdout"
        }
      ]
    }
  ]
}